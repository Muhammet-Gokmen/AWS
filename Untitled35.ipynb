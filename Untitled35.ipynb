{
  "nbformat": 4,
  "nbformat_minor": 0,
  "metadata": {
    "colab": {
      "provenance": [],
      "authorship_tag": "ABX9TyO05UYNSlxg6Wgn6oDFwfNT",
      "include_colab_link": true
    },
    "kernelspec": {
      "name": "python3",
      "display_name": "Python 3"
    },
    "language_info": {
      "name": "python"
    }
  },
  "cells": [
    {
      "cell_type": "markdown",
      "metadata": {
        "id": "view-in-github",
        "colab_type": "text"
      },
      "source": [
        "<a href=\"https://colab.research.google.com/github/Muhammet-Gokmen/AWS/blob/main/Untitled35.ipynb\" target=\"_parent\"><img src=\"https://colab.research.google.com/assets/colab-badge.svg\" alt=\"Open In Colab\"/></a>"
      ]
    },
    {
      "cell_type": "code",
      "execution_count": null,
      "metadata": {
        "colab": {
          "base_uri": "https://localhost:8080/"
        },
        "id": "Ij8tHf1c9crW",
        "outputId": "32e6ecd4-a021-4132-fdf1-b24c0bc0b62c"
      },
      "outputs": [
        {
          "output_type": "stream",
          "name": "stdout",
          "text": [
            "0\n",
            "2\n",
            "4\n"
          ]
        }
      ],
      "source": [
        "my_list = [0,1,2,3,4]\n",
        "i = 0\n",
        "while i<5:\n",
        "  print(my_list[i])\n",
        "  i+=2\n",
        "\n",
        "\n",
        "\n"
      ]
    },
    {
      "cell_type": "code",
      "source": [
        "number=0\n",
        "while number <= 10:\n",
        "  print(number)\n",
        "  number+=1\n",
        "else:\n",
        "  print('while loop ended and value of number is ' + str(number))"
      ],
      "metadata": {
        "id": "Oc2Xybo6-1ai",
        "colab": {
          "base_uri": "https://localhost:8080/"
        },
        "outputId": "d214518a-33f4-4243-b688-f63d1ba3e119"
      },
      "execution_count": null,
      "outputs": [
        {
          "output_type": "stream",
          "name": "stdout",
          "text": [
            "0\n",
            "1\n",
            "2\n",
            "3\n",
            "4\n",
            "5\n",
            "6\n",
            "7\n",
            "8\n",
            "9\n",
            "10\n",
            "while loop ended and value of number is 11\n"
          ]
        }
      ]
    },
    {
      "cell_type": "code",
      "source": [
        "x= 11%5\n",
        "print(x)\n",
        "\n"
      ],
      "metadata": {
        "colab": {
          "base_uri": "https://localhost:8080/"
        },
        "id": "MFpwTO3YlkqI",
        "outputId": "0a242e85-6e55-4b52-f895-889aec16aaa5"
      },
      "execution_count": null,
      "outputs": [
        {
          "output_type": "stream",
          "name": "stdout",
          "text": [
            "1\n"
          ]
        }
      ]
    },
    {
      "cell_type": "code",
      "source": [
        "liste = [\"ada\", \"adana\", \"adanaya\"]\n",
        "for index, elemen in enumerate(liste):\n",
        "    print('{}.{}'.format(index+1,elemen))"
      ],
      "metadata": {
        "id": "jApzY1wy0q_V",
        "colab": {
          "base_uri": "https://localhost:8080/"
        },
        "outputId": "83f7a744-083e-46eb-d1c6-33d1b8bafc89"
      },
      "execution_count": null,
      "outputs": [
        {
          "output_type": "stream",
          "name": "stdout",
          "text": [
            "1.ada\n",
            "2.adana\n",
            "3.adanaya\n"
          ]
        }
      ]
    },
    {
      "cell_type": "code",
      "source": [
        "liste = [\"ada\", \"adana\", \"adanaya\"]\n",
        "for index, elemen in enumerate(liste):\n",
        "    print('{}.{}'.format(index+1,elemen))\n",
        "\n",
        "def add_number(x,y,z):\n",
        "    a= x+y\n",
        "    b= z+y\n",
        "    c= x+z\n",
        "    print(a,b,c)\n",
        "add_number(1,2,3)"
      ],
      "metadata": {
        "id": "KxA2LU8auyPr",
        "outputId": "41d0b11d-35e4-4c94-c2f9-ec8a71898083",
        "colab": {
          "base_uri": "https://localhost:8080/"
        }
      },
      "execution_count": null,
      "outputs": [
        {
          "output_type": "stream",
          "name": "stdout",
          "text": [
            "1.ada\n",
            "2.adana\n",
            "3.adanaya\n",
            "3 5 4\n"
          ]
        }
      ]
    },
    {
      "cell_type": "code",
      "source": [],
      "metadata": {
        "id": "dBrQY7vwQmoI"
      },
      "execution_count": null,
      "outputs": []
    },
    {
      "cell_type": "code",
      "source": [
        "words = [\"adam\", \"baca\", \"clock\", \"banana\", \"swim\"]\n",
        "filtered_words = list(filter(lambda x: len(x) < 5, words))\n",
        "for i in filtered_words:\n",
        "    print(i)"
      ],
      "metadata": {
        "colab": {
          "base_uri": "https://localhost:8080/"
        },
        "id": "9A3KKP1iQmym",
        "outputId": "073a9489-7852-4788-ddde-54d56c9e1271"
      },
      "execution_count": 1,
      "outputs": [
        {
          "output_type": "stream",
          "name": "stdout",
          "text": [
            "adam\n",
            "baca\n",
            "swim\n"
          ]
        }
      ]
    }
  ]
}