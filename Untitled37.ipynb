{
  "nbformat": 4,
  "nbformat_minor": 0,
  "metadata": {
    "colab": {
      "provenance": [],
      "authorship_tag": "ABX9TyN+FKt5Rw6GxT/vmsM+jjgv",
      "include_colab_link": true
    },
    "kernelspec": {
      "name": "python3",
      "display_name": "Python 3"
    },
    "language_info": {
      "name": "python"
    }
  },
  "cells": [
    {
      "cell_type": "markdown",
      "metadata": {
        "id": "view-in-github",
        "colab_type": "text"
      },
      "source": [
        "<a href=\"https://colab.research.google.com/github/Muhammet-Gokmen/AWS/blob/main/Untitled37.ipynb\" target=\"_parent\"><img src=\"https://colab.research.google.com/assets/colab-badge.svg\" alt=\"Open In Colab\"/></a>"
      ]
    },
    {
      "cell_type": "code",
      "execution_count": 8,
      "metadata": {
        "colab": {
          "base_uri": "https://localhost:8080/"
        },
        "id": "SOQM_lcotl1T",
        "outputId": "d78bd7db-e301-481e-9468-414753064398"
      },
      "outputs": [
        {
          "output_type": "stream",
          "name": "stdout",
          "text": [
            "enter the your companycl\n",
            "empty_string\n"
          ]
        }
      ],
      "source": [
        "# given two string, s1 and s2. write a program to create a new string s3 by appending s2 in the middle of s1\n",
        "# input\n",
        "s1= \"sari\"\n",
        "s2= \"mehmet\"\n",
        "# output\n",
        "s3 = \"samehmetri\"\n",
        "\n",
        "\n",
        "s1= \"sari\"\n",
        "s2= \"mehmet\"\n",
        "\n",
        "s1 + s2\n",
        "\n",
        "\n",
        "s1[:]\n",
        "\n",
        "s3 =s1[:len(s1)//2] + s2 + s1[len(s1)//2:]\n",
        "s3\n",
        "\n",
        "# Write a Python program to return a string consisting of the first 3 and last 3 characters of a string you recieved from the user. if string length is less than 3, return \"empty string\"\n",
        "\n",
        "company = input(\"enter the your company\")\n",
        "if len(company) >= 3:\n",
        "  print(company[:3] + company[-3:])\n",
        "else:\n",
        "  print(\"empty_string\")\n",
        "\n",
        "\n",
        "\n",
        "\n"
      ]
    },
    {
      "cell_type": "code",
      "source": [],
      "metadata": {
        "id": "m6w8yhwEx3Z8"
      },
      "execution_count": null,
      "outputs": []
    },
    {
      "cell_type": "code",
      "source": [],
      "metadata": {
        "id": "Z5cagW5ix3sx"
      },
      "execution_count": null,
      "outputs": []
    }
  ]
}