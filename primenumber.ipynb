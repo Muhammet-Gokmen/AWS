{
  "nbformat": 4,
  "nbformat_minor": 0,
  "metadata": {
    "colab": {
      "provenance": [],
      "authorship_tag": "ABX9TyNviGxO/8X97m1D3b0lw8lu",
      "include_colab_link": true
    },
    "kernelspec": {
      "name": "python3",
      "display_name": "Python 3"
    },
    "language_info": {
      "name": "python"
    }
  },
  "cells": [
    {
      "cell_type": "markdown",
      "metadata": {
        "id": "view-in-github",
        "colab_type": "text"
      },
      "source": [
        "<a href=\"https://colab.research.google.com/github/Muhammet-Gokmen/AWS/blob/main/primenumber.ipynb\" target=\"_parent\"><img src=\"https://colab.research.google.com/assets/colab-badge.svg\" alt=\"Open In Colab\"/></a>"
      ]
    },
    {
      "cell_type": "code",
      "execution_count": 3,
      "metadata": {
        "colab": {
          "base_uri": "https://localhost:8080/"
        },
        "id": "qg1alENLfG8k",
        "outputId": "9027157e-7d73-4810-dbf5-60b7980e1282"
      },
      "outputs": [
        {
          "output_type": "stream",
          "name": "stdout",
          "text": [
            "write a number89\n",
            "89 is PrimeNumber\n"
          ]
        }
      ],
      "source": [
        "number = int(input(\"write a number\"))\n",
        "prime = True\n",
        "\n",
        "for i in range(2,number):\n",
        "  if number %i == 0:\n",
        "    prime=False\n",
        "    break\n",
        "\n",
        "if prime == True:\n",
        "  print(f\"{number} is PrimeNumber\")\n",
        "else:\n",
        "  print(f\"{number} is not PrimeNumber\")      "
      ]
    }
  ]
}