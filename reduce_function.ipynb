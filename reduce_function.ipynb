{
  "nbformat": 4,
  "nbformat_minor": 0,
  "metadata": {
    "colab": {
      "name": "reduce_function.ipynb",
      "provenance": [],
      "authorship_tag": "ABX9TyMmGIa1/8feYLUgs1fbWgWg",
      "include_colab_link": true
    },
    "kernelspec": {
      "name": "python3",
      "display_name": "Python 3"
    },
    "language_info": {
      "name": "python"
    }
  },
  "cells": [
    {
      "cell_type": "markdown",
      "metadata": {
        "id": "view-in-github",
        "colab_type": "text"
      },
      "source": [
        "<a href=\"https://colab.research.google.com/github/Muhammet-Gokmen/AWS/blob/main/reduce_function.ipynb\" target=\"_parent\"><img src=\"https://colab.research.google.com/assets/colab-badge.svg\" alt=\"Open In Colab\"/></a>"
      ]
    },
    {
      "cell_type": "code",
      "execution_count": 2,
      "metadata": {
        "colab": {
          "base_uri": "https://localhost:8080/"
        },
        "id": "ZOSfHcoAGhMP",
        "outputId": "57bf4340-6779-4f72-8c46-59c61e47ef9b"
      },
      "outputs": [
        {
          "output_type": "stream",
          "name": "stdout",
          "text": [
            "makas\n"
          ]
        }
      ],
      "source": [
        "from functools import reduce\n",
        "from math import gcd\n",
        "def tas_makas(x,y):\n",
        "  kume= {x,y}\n",
        "  if x==y:\n",
        "    return x\n",
        "  if kume == {\"tas\" , \"makas\"}:\n",
        "    return \"tas\" \n",
        "  if kume == {\"tas\" , \"kagit\"}:\n",
        "    return \"kagit\"\n",
        "  if kume == {\"kagit\" , \"makas\"}:\n",
        "    return \"makas\"\n",
        "liste = [\"tas\",\"kagit\",\"tas\",\"makas\",\"kagit\"] \n",
        "sonuc = reduce (tas_makas,liste)\n",
        "print(sonuc)      "
      ]
    },
    {
      "cell_type": "code",
      "source": [
        ""
      ],
      "metadata": {
        "id": "CuMcnYppaEDl"
      },
      "execution_count": null,
      "outputs": []
    }
  ]
}